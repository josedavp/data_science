{
 "cells": [
  {
   "cell_type": "code",
   "execution_count": null,
   "metadata": {
    "id": "mFL4JLSI_MOK"
   },
   "outputs": [],
   "source": [
    "# -*- coding: utf-8 -*-\n",
    "\"\"\"\n",
    "HW1 Code Skeleton\n",
    "@author: Jianhua Ruan\n",
    "\"\"\"\n",
    "import random\n",
    "\n",
    "import matplotlib.pyplot as plt\n",
    "from IPython import get_ipython\n"
   ]
  },
  {
   "cell_type": "markdown",
   "metadata": {
    "id": "wNNKBItm_-uY"
   },
   "source": [
    "# Q1 Selection Sort \n",
    "\n",
    "Although not required, it should be in-place sorting (sort the original list)"
   ]
  },
  {
   "cell_type": "code",
   "execution_count": null,
   "metadata": {
    "id": "eiQHOh0a_daL"
   },
   "outputs": [
    {
     "name": "stdout",
     "output_type": "stream",
     "text": [
      "\n",
      "\n",
      "********* Q1 *********\n",
      "random array is:  [15, 0, 15, 17, 18, 9, 10, 1, 1, 4]\n",
      "selection sorted array is:  [0, 1, 1, 4, 9, 10, 15, 15, 17, 18]\n",
      "selectionSort is correct\n",
      "profiling running time of python sorted function on a:\n",
      "200 ns ± 2 ns per loop (mean ± std. dev. of 7 runs, 1000000 loops each)\n",
      "profiling running time of my merge sort function on a:\n",
      "5.77 µs ± 72.8 ns per loop (mean ± std. dev. of 7 runs, 100000 loops each)\n"
     ]
    }
   ],
   "source": [
    "\n",
    "def selectionSort(numList):\n",
    "    \"\"\"Given a list of numbers, return a list in sorted order (least to largest)\n",
    "        Note that the function may change the original list (in-place sorting)\n",
    "    \"\"\"\n",
    "    \n",
    "##########################\n",
    "# replace this block\n",
    "    for j in range(len(numList)):\n",
    "        minVal = j;\n",
    "        for k in range(j+1, len(numList)):\n",
    "            if numList[minVal] > numList[k]:\n",
    "                minVal = k\n",
    "        numList[j], numList[minVal] = numList[minVal], numList[j]   \n",
    "##########################\n",
    "\n",
    "    return numList\n",
    "\n",
    "\n",
    "#%% Testing selection sort\n",
    "\n",
    "a = [random.randint(0, 20) for _ in range(10)]\n",
    "print('\\n\\n********* Q1 *********')\n",
    "print('random array is: ', a)\n",
    "    \n",
    "b = selectionSort(a)\n",
    "print('selection sorted array is: ', b)\n",
    "\n",
    "\n",
    "\n",
    "if b == sorted(a):\n",
    "    print('selectionSort is correct') \n",
    "\n",
    "    print('profiling running time of python sorted function on a:')\n",
    "    get_ipython().run_line_magic('timeit', 'sorted(a)')\n",
    "\n",
    "    print('profiling running time of my merge sort function on a:')\n",
    "    get_ipython().run_line_magic('timeit', 'selectionSort(a)')\n",
    "\n",
    "else:\n",
    "# replace the following statement with a print statement if your selection sort is incorrect \n",
    "# but you want to continue with the rest of the code\n",
    "    raise SystemExit('selectionSort is incorrect')\n",
    "\n"
   ]
  },
  {
   "cell_type": "markdown",
   "metadata": {
    "id": "rMvVg0nOAJk6"
   },
   "source": [
    "# Q2a. Merge function"
   ]
  },
  {
   "cell_type": "code",
   "execution_count": null,
   "metadata": {
    "id": "KpOTcZpU_xxt"
   },
   "outputs": [
    {
     "name": "stdout",
     "output_type": "stream",
     "text": [
      "\n",
      "\n",
      "********* Q2a *********\n",
      "a is:  [1, 3, 4, 5, 5]\n",
      "b is:  [0, 4, 8, 8]\n",
      "merged result:  [0, 1, 3, 4, 4, 5, 5, 8, 8]\n",
      "merge is correct\n"
     ]
    }
   ],
   "source": [
    "\n",
    "\n",
    "def merge(sortListA, sortListB):\n",
    "    \"\"\"Given two non-decreasingly sorted list of numbers, \n",
    "       return a single merged list in non-decreasing order\n",
    "    \"\"\"\n",
    "##########################\n",
    "# replace this block\n",
    "    #pass  \n",
    "    mergedList = []\n",
    "    i = j = 0\n",
    "    while i < len(sortListA) and j < len(sortListB):\n",
    "        if sortListA[i] <= sortListB[j]:\n",
    "            mergedList.append(sortListA[i])\n",
    "            #print(\"ML\", mergedList)\n",
    "            i += 1\n",
    "            #j += 1\n",
    "        else:\n",
    "            mergedList.append(sortListB[j])\n",
    "           # print(\"ML\", mergedList)\n",
    "            j += 1\n",
    "            #i += 1\n",
    "    while i < len(sortListA):\n",
    "        mergedList.append(sortListA[i])\n",
    "        i += 1\n",
    "    while j < len(sortListB):\n",
    "        mergedList.append(sortListB[j])\n",
    "        j += 1\n",
    "##########################\n",
    "    return mergedList\n",
    "\n",
    "\n",
    "#%% Testing merge function\n",
    "\n",
    "a = sorted([random.randint(0, 10) for _ in range(5)]) # a is sorted \n",
    "b = sorted([random.randint(0, 10) for _ in range(4)]) # b is sorted\n",
    "\n",
    "print('\\n\\n********* Q2a *********')\n",
    "print('a is: ', a)\n",
    "print('b is: ', b)\n",
    "\n",
    "c = merge(a, b) # c should be sorted(a+b)\n",
    "print('merged result: ', c)\n",
    "\n",
    "if (c == sorted(a + b)):\n",
    "    print('merge is correct')\n",
    "else:\n",
    "# replace the following statement with a print statement if your merge function is incorrect \n",
    "# but you want to continue with the rest of the code\n",
    "    raise SystemExit('merge is incorrect')    \n",
    "\n",
    "\n"
   ]
  },
  {
   "cell_type": "markdown",
   "metadata": {
    "id": "RDzRHOOFAxr8",
    "tags": []
   },
   "source": [
    "# Q2b merge sort \n",
    "\n",
    "Not an in-place sorting (returns a new sorted list)"
   ]
  },
  {
   "cell_type": "code",
   "execution_count": null,
   "metadata": {
    "id": "KeqwYU9y_2x5",
    "tags": []
   },
   "outputs": [
    {
     "name": "stdout",
     "output_type": "stream",
     "text": [
      "\n",
      "\n",
      "********* Q2b *********\n",
      "random array is:  [10, 11, 3, 11, 14, 18, 1, 11, 16, 2]\n",
      "merge sorted array is:  [1, 2, 3, 10, 11, 11, 11, 14, 16, 18]\n",
      "mergeSort is correct\n",
      "profiling running time of python sorted function on a:\n",
      "249 ns ± 1.5 ns per loop (mean ± std. dev. of 7 runs, 1000000 loops each)\n",
      "profiling running time of my merge sort function on a:\n",
      "13.7 µs ± 110 ns per loop (mean ± std. dev. of 7 runs, 100000 loops each)\n"
     ]
    }
   ],
   "source": [
    "def mergeSort(numList):\n",
    "    \"\"\"\n",
    "    Given a list of numbers in random order, \n",
    "    return a new list sorted in non-decreasing order, \n",
    "    and leave the original list unchanged.\n",
    "    \"\"\"\n",
    "##########################\n",
    "# replace this block\n",
    "    #pass\n",
    "   # sortedList = numList #super slow? and it seems correct? is it?\n",
    "   # sortedList.sort()\n",
    "    if len(numList) <= 1:\n",
    "        return numList\n",
    "        \n",
    "    mid = len(numList)// 2\n",
    "    sortListA = mergeSort(numList[:mid]) #numList[:mid] #stops error this way but idk\n",
    "    sortListB = mergeSort(numList[mid:]) #numList[mid:]\n",
    "    sortedList = merge(sortListA, sortListB)\n",
    "        #############this should be it but it isnt reading my merge\n",
    "    \n",
    "\n",
    "\n",
    "##########################\n",
    "\n",
    "    return sortedList\n",
    "\n",
    "\n",
    "#%% Test mergeSort function\n",
    "    \n",
    "    \n",
    "a = [random.randint(0, 20) for _ in range(10)]\n",
    "    \n",
    "\n",
    "print('\\n\\n********* Q2b *********')\n",
    "print('random array is: ', a)\n",
    "\n",
    "\n",
    "b = mergeSort(a)\n",
    "print('merge sorted array is: ', b)\n",
    "\n",
    "\n",
    "if b == sorted(a):\n",
    "    print('mergeSort is correct') \n",
    "    print('profiling running time of python sorted function on a:')\n",
    "    get_ipython().run_line_magic('timeit', 'sorted(a)')\n",
    "\n",
    "    print('profiling running time of my merge sort function on a:')\n",
    "    get_ipython().run_line_magic('timeit', 'mergeSort(a)')\n",
    "\n",
    "else:\n",
    "# replace the following statement with a print statement if your merge sort is incorrect \n",
    "# but you want to continue with the rest of the code\n",
    "    raise SystemExit('mergeSort is incorrect')\n",
    "\n",
    "\n",
    "\n",
    "\n"
   ]
  },
  {
   "cell_type": "markdown",
   "metadata": {
    "id": "N5VE2ySVBF22"
   },
   "source": [
    "# Q3 Experiment and plot\n",
    "\n",
    "Run the three sorting algorithms on different input sizes and collect running time"
   ]
  },
  {
   "cell_type": "code",
   "execution_count": null,
   "metadata": {
    "id": "TIeXD27T_8AN"
   },
   "outputs": [
    {
     "name": "stdout",
     "output_type": "stream",
     "text": [
      "\n",
      "\n",
      "********* Q3 *********\n",
      "Collecting running time (in milliseconds)\n",
      "iteration 0, size = 500\n",
      "iteration 1, size = 1000\n",
      "iteration 2, size = 2000\n",
      "iteration 3, size = 4000\n",
      "iteration 4, size = 8000\n",
      "iteration 5, size = 16000\n"
     ]
    }
   ],
   "source": [
    "import time\n",
    "\n",
    "# input size is 500 * (1, 2, 4, ..., 32)\n",
    "sizes = [500 * 2**i for i in range(6)]\n",
    "\n",
    "\n",
    "merge_sort_time = [0] * len(sizes)\n",
    "selection_sort_time = [0] * len(sizes)\n",
    "quick_sort_time = [0] * len(sizes)\n",
    "\n",
    "print('\\n\\n********* Q3 *********')\n",
    "print('Collecting running time (in milliseconds)')\n",
    "\n",
    "for i in range(len(sizes)):\n",
    "    print('iteration %d, size = %d' %(i, sizes[i]))\n",
    "    # random array of size sizes[i]\n",
    "    a = [random.random() for _ in range(sizes[i])]\n",
    "    start_time = time.perf_counter()\n",
    "    sorted(a)\n",
    "    quick_sort_time[i] = 1000*(time.perf_counter() - start_time) \n",
    "    start_time = time.perf_counter()\n",
    "    mergeSort(a)\n",
    "    merge_sort_time[i] = 1000*(time.perf_counter() - start_time) \n",
    "    start_time = time.perf_counter()\n",
    "    selectionSort(a)\n",
    "    selection_sort_time[i] = 1000*(time.perf_counter() - start_time)  \n"
   ]
  },
  {
   "cell_type": "markdown",
   "metadata": {
    "id": "bd17mngV_X1G"
   },
   "source": [
    "## Complete the following code to plot the running time; use the style show in the homework document as template, reproduce as much detail as possible.\n",
    "\n"
   ]
  },
  {
   "cell_type": "code",
   "execution_count": null,
   "metadata": {
    "id": "PkMT0iuhBhKx"
   },
   "outputs": [
    {
     "data": {
      "image/png": "[encoded data removed]",
      "text/plain": [
       "<Figure size 432x288 with 1 Axes>"
      ]
     },
     "metadata": {
      "needs_background": "light"
     },
     "output_type": "display_data"
    }
   ],
   "source": [
    "#%% Q3a. plot running time (Fig 1)\n",
    "\n",
    "##########################\n",
    "# replace this block\n",
    "    #pass\n",
    "    #figure out plt.plot for a, start time might be wrong, markers might be x or * \n",
    "plt.figure()\n",
    "plt.plot(sizes,quick_sort_time, color='red', marker='x',linestyle=':', label = \"Quick sort\")\n",
    "plt.plot(sizes, merge_sort_time, color='green', marker='*',linestyle='solid', label = \"Merge sort\")\n",
    "plt.plot(sizes,selection_sort_time, color='blue', marker='x',linestyle='-.', label = \"Selection sort\")\n",
    "plt.title('Fig 1')\n",
    "plt.legend()\n",
    "plt.ylabel('Time (ms)')\n",
    "plt.xlabel(\"Input Size\")\n",
    "plt.show()\n",
    "##########################"
   ]
  },
  {
   "cell_type": "code",
   "execution_count": 13,
   "metadata": {
    "id": "tLriw-gOBrdf"
   },
   "outputs": [
    {
     "data": {
      "text/plain": [
       "<Figure size 432x288 with 0 Axes>"
      ]
     },
     "metadata": {},
     "output_type": "display_data"
    },
    {
     "data": {
      "image/png": "[encoded data removed]",
      "text/plain": [
       "<Figure size 432x288 with 1 Axes>"
      ]
     },
     "metadata": {
      "needs_background": "light"
     },
     "output_type": "display_data"
    }
   ],
   "source": [
    "#%% Q3b. plot running time (Fig 2)\n",
    "\n",
    "##########################\n",
    "# replace this block\n",
    "plt.clf()\n",
    "plt.figure() #figure out plt.plot for a, start time might be wrong, markers might be x or *\n",
    "plt.yscale('log')\n",
    "plt.plot(sizes,quick_sort_time,label = 'Quick sort', color='red', marker='x',linestyle=':')\n",
    "plt.plot(sizes, merge_sort_time,label = 'Merge sort', color='green', marker='*',linestyle='solid')\n",
    "plt.plot(sizes,selection_sort_time,label = 'Selection sort', color='blue', marker='x',linestyle='-.')\n",
    "plt.legend(loc ='lower right')\n",
    "plt.title('Fig 2')\n",
    "plt.ylabel('Time (ms)')\n",
    "plt.xlabel(\"Input Size\")\n",
    "plt.show() \n",
    "\n",
    "##########################"
   ]
  },
  {
   "cell_type": "code",
   "execution_count": 12,
   "metadata": {
    "id": "HSKGGXs6Bu-r"
   },
   "outputs": [
    {
     "data": {
      "image/png": "[encoded data removed]",
      "text/plain": [
       "<Figure size 432x288 with 1 Axes>"
      ]
     },
     "metadata": {
      "needs_background": "light"
     },
     "output_type": "display_data"
    }
   ],
   "source": [
    "#%% Q3c. plot running time per input element (Fig 3)\n",
    "\n",
    "##########################\n",
    "# replace this block\n",
    "plt.close()\n",
    "plt.figure() #figure out plt.plot for a, start time might be wrong, markers might be x or *\n",
    "res2 = [i/j for i,j in zip(quick_sort_time, sizes)]\n",
    "plt.plot(sizes,res2,label = 'Quick sort', color='red', marker='x',linestyle=':')\n",
    "res = [i/j for i,j in zip(merge_sort_time, sizes)]\n",
    "plt.plot(sizes, res, label = 'Merge sort', color='green', marker='*',linestyle='solid')\n",
    "res1 = [i/j for i,j in zip(selection_sort_time, sizes)]\n",
    "plt.plot(sizes,res1,label = 'Selection sort', color='blue', marker='x',linestyle='-.')\n",
    "plt.legend()\n",
    "plt.title('Fig 3')\n",
    "plt.ylabel('Time (ms) per input element')\n",
    "plt.xlabel(\"Input Size\")\n",
    "plt.show()    \n",
    "##########################\n"
   ]
  },
  {
   "cell_type": "code",
   "execution_count": 13,
   "metadata": {
    "id": "vrBQH275BweW"
   },
   "outputs": [
    {
     "data": {
      "image/png": "[encoded data removed]",
      "text/plain": [
       "<Figure size 432x288 with 1 Axes>"
      ]
     },
     "metadata": {
      "needs_background": "light"
     },
     "output_type": "display_data"
    }
   ],
   "source": [
    "\n",
    "\n",
    "#%% Q3d. plot running time per input element (Fig 4)\n",
    "\n",
    "##########################\n",
    "# replace this block\n",
    "#pass     \n",
    "plt.figure() #figure out plt.plot for a, start time might be wrong, markers might be x or *\n",
    "plt.plot(sizes,quick_sort_time, color='red', marker='x',linestyle=':', label = \"Quick sort\")\n",
    "plt.plot(sizes, merge_sort_time, color='green', marker='*',linestyle='solid', label = \"Merge sort\")\n",
    "plt.plot(sizes,selection_sort_time, color='blue', marker='x',linestyle='-.', label = \"Selection sort\")\n",
    "plt.title('Fig 4')\n",
    "plt.yscale('log')\n",
    "plt.legend(loc ='upper left')\n",
    "plt.ylabel('Time (ms) per input element')\n",
    "plt.xlabel(\"Input Size\")\n",
    "plt.show() \n",
    "##########################"
   ]
  },
  {
   "cell_type": "code",
   "execution_count": null,
   "metadata": {},
   "outputs": [],
   "source": []
  }
 ],
 "metadata": {
  "colab": {
   "collapsed_sections": [],
   "name": "HW1.ipynb",
   "provenance": []
  },
  "kernelspec": {
   "display_name": "Python 3 (ipykernel)",
   "language": "python",
   "name": "python3"
  },
  "language_info": {
   "codemirror_mode": {
    "name": "ipython",
    "version": 3
   },
   "file_extension": ".py",
   "mimetype": "text/x-python",
   "name": "python",
   "nbconvert_exporter": "python",
   "pygments_lexer": "ipython3",
   "version": "3.9.7"
  }
 },
 "nbformat": 4,
 "nbformat_minor": 4
}
