{
 "cells": [
  {
   "cell_type": "markdown",
   "metadata": {
    "id": "7yABf1ygEuhs"
   },
   "source": [
    "# HW2 Matplotlib and Numpy (70 points)"
   ]
  },
  {
   "cell_type": "markdown",
   "metadata": {},
   "source": [
    "## Electronic submission due 11:59pm, Fri 2/24`"
   ]
  },
  {
   "cell_type": "markdown",
   "metadata": {
    "id": "s0boxgGbFB9e"
   },
   "source": [
    "To complete this homework, you need to download the data file named gradebook.txt, which contain the grades of 100 students in a class. The data file contains 100 rows, each of which represents a student, and 20 columns: the first 10 columns are quizzes, the next 7 columns are homeworks, and the last three columns are exams. \n",
    "\n",
    "Complete the python script to analyze the data and produce several statistics and three figures (see example figures on the next page)."
   ]
  },
  {
   "cell_type": "code",
   "execution_count": 6,
   "metadata": {
    "id": "RNYHSMn8Fn2J"
   },
   "outputs": [],
   "source": [
    "import numpy as np\n",
    "import matplotlib.pyplot as plt\n",
    "import pandas as pd "
   ]
  },
  {
   "cell_type": "code",
   "execution_count": 7,
   "metadata": {
    "colab": {
     "base_uri": "https://localhost:8080/",
     "height": 346
    },
    "id": "APeSKVC8FpIT",
    "outputId": "56b8a346-57b6-4467-c621-3bcb913b1bca"
   },
   "outputs": [],
   "source": [
    "#%% load data file\n",
    "\n",
    "grades=pd.read_table('gradebook.txt',delimiter=' ', header=None).values"
   ]
  },
  {
   "cell_type": "code",
   "execution_count": 8,
   "metadata": {
    "colab": {
     "base_uri": "https://localhost:8080/"
    },
    "id": "Yjq5hpcOFsnO",
    "outputId": "213aef10-131c-4aa5-faa8-e7b5f00098c2"
   },
   "outputs": [
    {
     "name": "stdout",
     "output_type": "stream",
     "text": [
      "Number of NaNs:  100\n",
      "Number of Zeros:  100\n"
     ]
    }
   ],
   "source": [
    "#%% 1. (5 points) Find out how many values in the array is negative or NaN, report the counts, and replace NaNs or negative values with 0.\n",
    "gArray = np.array(grades)\n",
    "s= 0\n",
    "j= 0\n",
    "s= len(gArray[:,] < 0)\n",
    "gArray[gArray < 0] = 0\n",
    "#print(\"gArray\", gArray)\n",
    "#print(\"NUM\", newArray)\n",
    "j= len(gArray[:,] == 0)\n",
    "print('Number of NaNs: ', s)\n",
    "print('Number of Zeros: ', j)\n"
   ]
  },
  {
   "cell_type": "code",
   "execution_count": 9,
   "metadata": {
    "colab": {
     "base_uri": "https://localhost:8080/",
     "height": 295
    },
    "id": "cPF_UGwCF-Li",
    "outputId": "0abf33e9-ddf8-484e-b420-754dbff2a63b"
   },
   "outputs": [
    {
     "data": {
      "image/png": "[encoded data removed]",
      "text/plain": [
       "<Figure size 432x288 with 1 Axes>"
      ]
     },
     "metadata": {
      "needs_background": "light"
     },
     "output_type": "display_data"
    }
   ],
   "source": [
    "#%% 2. (10 points) Generate a bar chart for the max of each column (20 bars).\n",
    "#Seems to be mostly correct except the x axis is slightly incorrect in label\n",
    "maxColumn = gArray.max(axis = 0) #should be correct\n",
    "xs = range(len(maxColumn))\n",
    "plt.figure(1)\n",
    "plt.bar( xs, maxColumn)\n",
    "plt.xlabel('Column Index')\n",
    "plt.ylabel('Max value')\n",
    "plt.title('Fig 1')\n",
    "plt.show()"
   ]
  },
  {
   "cell_type": "code",
   "execution_count": 10,
   "metadata": {
    "colab": {
     "base_uri": "https://localhost:8080/",
     "height": 295
    },
    "id": "uD6Fr12sGRD9",
    "outputId": "cba16347-4c83-4a69-ac43-0edf1fa8afe7"
   },
   "outputs": [
    {
     "data": {
      "image/png": "[encoded data removed]",
      "text/plain": [
       "<Figure size 432x288 with 1 Axes>"
      ]
     },
     "metadata": {
      "needs_background": "light"
     },
     "output_type": "display_data"
    }
   ],
   "source": [
    "#%% 3.\t(10 points) Generate a bar chart for the mean of each HW (7 bars).\n",
    "#DONE\n",
    "hwArr = gArray[:, 10:17]\n",
    "plt.figure(2)\n",
    "plt.bar( range(len(np.mean(hwArr, axis = 0))),np.mean(hwArr, axis = 0))\n",
    "plt.xlabel('HW Index')\n",
    "plt.ylabel('Mean value')\n",
    "plt.title('Fig 2')\n",
    "plt.show()"
   ]
  },
  {
   "cell_type": "code",
   "execution_count": 11,
   "metadata": {
    "colab": {
     "base_uri": "https://localhost:8080/",
     "height": 295
    },
    "id": "kh0SXzV8GXdi",
    "outputId": "0cddd4b1-f627-4f1c-a46d-550a441a961f"
   },
   "outputs": [
    {
     "data": {
      "image/png": "[encoded data removed]",
      "text/plain": [
       "<Figure size 432x288 with 1 Axes>"
      ]
     },
     "metadata": {
      "needs_background": "light"
     },
     "output_type": "display_data"
    }
   ],
   "source": [
    "#%% 4.\t(10 points) Scatter plot the average of the two midterm exams exam against the final exam.\n",
    "#DONE\n",
    "midArr = gArray[:, 17:19] #GETS THE MIDTERMS\n",
    "finalArr = gArray[:,19]\n",
    "#print(\"TOTAL\", np.mean(midArr, axis = 1))\n",
    "plt.figure(3)\n",
    "plt.scatter(np.mean(midArr, axis = 1), finalArr)\n",
    "#plt.xticks(xs, finalArr)\n",
    "plt.xlabel('Midterm Average')\n",
    "plt.ylabel('Final exam')\n",
    "plt.title('Fig 3')\n",
    "plt.show()\n"
   ]
  },
  {
   "cell_type": "code",
   "execution_count": 12,
   "metadata": {
    "colab": {
     "base_uri": "https://localhost:8080/"
    },
    "id": "by9cbYIQGYhY",
    "outputId": "d9c91e25-f932-4ca5-c59e-9898d028dabd"
   },
   "outputs": [
    {
     "name": "stdout",
     "output_type": "stream",
     "text": [
      "Row index for the top-5 final exam scores: [89 91 92 92 93]\n",
      "\n",
      "All exam scores for the top-5 final exam scores: [[ 82  76  89]\n",
      " [ 78  85  91]\n",
      " [ 78  81  92]\n",
      " [ 83  84  92]\n",
      " [ 94 100  93]]\n"
     ]
    }
   ],
   "source": [
    "#%% 5.\t(10 points). Sort the final exam score (last column) to find the row index with the top 5 highest scores and report. Also report their grades for the three exams.\n",
    "#DONEISH, it may be missing something about ROW INDEX\n",
    "midArr = gArray[:, 17:19] #GETS THE MIDTERMS\n",
    "finalArr = gArray[:,19]\n",
    "gradeArr = gArray[:,17:20] #gets all three here\n",
    "#print(\"GRADEARR\", gradeArr)\n",
    "sortArr = gradeArr[np.argsort(gradeArr[:,2])]\n",
    "#print(\"HERE\",gradeArr[np.argsort(gradeArr[:,2])])\n",
    "#print(\"DONE?\", sortArr[-5:])\n",
    "#if needde you could do a match and search using a for loop. then get every index one by one for each five and add them all to a list\n",
    "print('Row index for the top-5 final exam scores:', sortArr[-5:, 2])\n",
    "      \n",
    "print('\\nAll exam scores for the top-5 final exam scores:', sortArr[-5:])\n",
    "\n",
    "\n",
    "\n"
   ]
  },
  {
   "cell_type": "code",
   "execution_count": 13,
   "metadata": {
    "colab": {
     "base_uri": "https://localhost:8080/"
    },
    "id": "0vrThvAHGZUo",
    "outputId": "1235fa61-4090-42ae-b520-40f204a0a50f"
   },
   "outputs": [
    {
     "name": "stdout",
     "output_type": "stream",
     "text": [
      "ARRMAX [ 10  10  10  10  10  10  10  10  10  10  50  50  50  50  50  50  50  94\n",
      " 100  93]\n",
      "NEWARRAY [92.13017616 90.14813544 93.92905514 93.         94.26010066 77.65836193\n",
      " 92.5104324  81.15225349 82.74566461 89.62312972 87.75204759 95.47931823\n",
      " 85.53523221 79.15218485 93.96023793 82.39766644 93.36575154 73.78462594\n",
      " 89.66575154 75.40091512 60.23136582 92.48490048 86.4594372  78.82724777\n",
      " 95.79267902 65.79512697 86.92724777 82.70077785 87.98549531 96.56097003\n",
      " 79.30816747 86.12093342 81.38416838 65.90150995 79.37199725 86.42651567\n",
      " 92.98570121 91.80398078 82.49533288 82.04001373 71.06328071 73.56401281\n",
      " 69.40077785 92.21681537 78.29519561 82.19579044 73.93276138 90.8280485\n",
      " 68.87618394 78.35264242 74.58961336 86.42173416 77.95117822 76.90796156\n",
      " 84.37032716 86.00324868 86.40889957 88.707504   78.67053306 85.98423702\n",
      " 78.47039579 84.08476321 78.35138412 65.40789293 88.95424388 80.57199725\n",
      " 68.38156028 89.6790437  76.51427591 83.17053306 86.35916266 87.6273164\n",
      " 93.35364905 76.44479524 81.02152825 78.29627088 81.1577671  79.10084649\n",
      " 80.89373141 87.41615191 72.2582933  89.07133379 90.32811714 69.0070922\n",
      " 89.64227865 87.30404942 90.31615191 87.54008236 76.43283002 86.89679707\n",
      " 84.50889957 94.42891787 81.40318005 91.21681537 77.85783574 85.07046442\n",
      " 88.73516358 93.09752917 86.11535118 90.04161519]\n",
      "Statistics  for final grade:\n",
      "\tmax:  96.56097002974148\n",
      "\tmin:  60.231365820178446\n",
      "\tmedian:  84.78968199496683\n",
      "\tmean:  83.46525463280716\n",
      "\tstd:  7.85524906003487\n"
     ]
    }
   ],
   "source": [
    "#%% 6.\t(15 points) Compute a final weighted average score of each student: divide each column by the max of that column and then multiple by 100; and then compute a weighted average where each quiz counts 2%, each hw counts 5%, exam 1 and 2 each of which counts 10%, and the final exam counts 25%. Round the final score to the nearest integer. Report the following statistics for the final scores: max, min, median, mean, standard deviation.\n",
    "arrMax = gArray.max(axis = 0) #max of each column\n",
    "print(\"ARRMAX\", arrMax)\n",
    "bArray = gArray.dot(np.diag(100/arrMax)) #divide by max times 100\n",
    "weight = ([.02] * 10 + [.05] * 7 + [.10] * 2 + [.25] * 1) #get the weight of each for specific column   ###This is where I mainly have issues. I cant seem to figure this part and since I cant do this part I cant do question 7 easily.\n",
    "#print(\"HERE\", weight)\n",
    "newArray = bArray.dot(weight) #multiply them? send to new value\n",
    "np.round(newArray) #round it? at end for final score?\n",
    "print(\"NEWARRAY\", newArray)\n",
    "print('Statistics  for final grade:')\n",
    "print('\\tmax: ', newArray.max())\n",
    "print('\\tmin: ', newArray.min())\n",
    "print('\\tmedian: ', np.median(newArray))\n",
    "print('\\tmean: ', newArray.mean() )\n",
    "print('\\tstd: ', newArray.std(axis=0, ddof=0))\n"
   ]
  },
  {
   "cell_type": "code",
   "execution_count": 103,
   "metadata": {
    "colab": {
     "base_uri": "https://localhost:8080/",
     "height": 295
    },
    "id": "BexmuunvGaVR",
    "outputId": "25f9f170-b174-4cc0-fbe3-0a45c38bdca2"
   },
   "outputs": [
    {
     "ename": "SyntaxError",
     "evalue": "invalid syntax (Temp/ipykernel_2968/1278404647.py, line 7)",
     "output_type": "error",
     "traceback": [
      "\u001b[1;36m  File \u001b[1;32m\"C:\\Users\\Jose\\AppData\\Local\\Temp/ipykernel_2968/1278404647.py\"\u001b[1;36m, line \u001b[1;32m7\u001b[0m\n\u001b[1;33m    plt.bar( range(len(finalScores), finalScores)\u001b[0m\n\u001b[1;37m    ^\u001b[0m\n\u001b[1;31mSyntaxError\u001b[0m\u001b[1;31m:\u001b[0m invalid syntax\n"
     ]
    }
   ],
   "source": [
    "#%% 7.\t(10 points) Count the number students whose final score is in the following range: < 60; >=60 and < 70, >=70 and < 80, >=80 and < 90, and >= 90, and plot the counts as a bar chart.\n",
    "#combine 60 & 70, 70 & 80, 80 &90 for grading then plot them as a bar\n",
    "finalScores = newArray[:6]\n",
    "print(\"final\", num)\n",
    "plt.figure(4)\n",
    "plt.bar( range(len(finalScores), finalScores)\n",
    "plt.bar( range(len(finalScores), finalScores)\n",
    "plt.bar( range(len(finalScores), finalScores)\n",
    "plt.bar( range(len(finalScores), finalScores)\n",
    "plt.bar( range(len(finalScores), finalScores)\n",
    "#plt.bar( range(len(d)), len(d))\n",
    "#plt.bar( range(len(cLow)), len(cLow) )\n",
    "#plt.bar( range(len(c)) , len(c) )\n",
    "#plt.bar( range(len(cMid)), len(cMid) )\n",
    "#plt.bar( range(len(b)), len(b) )\n",
    "#plt.bar( range(len(bMid)) , len(bMid))\n",
    "#plt.bar( range(len(a)) , len(a))\n",
    "categories = ('<60', '[60,70)', '[70,80)', '[80,90)', '>= 90')\n",
    "plt.xticks(range(5), categories)\n",
    "plt.ylabel('Number of students')\n",
    "plt.xlabel('Final score')\n",
    "plt.title('Fig 4')\n",
    "plt.show()\n"
   ]
  },
  {
   "cell_type": "code",
   "execution_count": null,
   "metadata": {},
   "outputs": [],
   "source": []
  },
  {
   "cell_type": "code",
   "execution_count": null,
   "metadata": {},
   "outputs": [],
   "source": []
  }
 ],
 "metadata": {
  "colab": {
   "name": "HW2_skeleton.ipynb",
   "provenance": []
  },
  "kernelspec": {
   "display_name": "Python 3 (ipykernel)",
   "language": "python",
   "name": "python3"
  },
  "language_info": {
   "codemirror_mode": {
    "name": "ipython",
    "version": 3
   },
   "file_extension": ".py",
   "mimetype": "text/x-python",
   "name": "python",
   "nbconvert_exporter": "python",
   "pygments_lexer": "ipython3",
   "version": "3.9.7"
  }
 },
 "nbformat": 4,
 "nbformat_minor": 4
}
