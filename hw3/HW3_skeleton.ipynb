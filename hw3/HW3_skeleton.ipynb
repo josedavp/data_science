{
 "cells": [
  {
   "cell_type": "markdown",
   "metadata": {
    "id": "xDW8xR1D5jnr"
   },
   "source": [
    "# HW3 code skeleton"
   ]
  },
  {
   "cell_type": "markdown",
   "metadata": {
    "id": "4JBpLffO5jnx"
   },
   "source": [
    "Code for Q1-Q7."
   ]
  },
  {
   "cell_type": "markdown",
   "metadata": {
    "id": "cyxC95eB5jnz"
   },
   "source": [
    "#### % import necessary modules"
   ]
  },
  {
   "cell_type": "code",
   "execution_count": 3,
   "metadata": {
    "id": "IpjkHm5h5jn0"
   },
   "outputs": [],
   "source": [
    "import numpy as np\n",
    "import pandas as pd\n",
    "import matplotlib.pyplot as plt\n",
    "from math import sqrt\n",
    "from numpy import diag\n",
    "import scipy.stats\n"
   ]
  },
  {
   "cell_type": "markdown",
   "metadata": {
    "id": "X_NLUDMs5jn2"
   },
   "source": [
    "#### % load the data and setup some variables"
   ]
  },
  {
   "cell_type": "markdown",
   "metadata": {
    "id": "FdLxtQur5jn3"
   },
   "source": [
    "data is a numpy ndarray of shape (3,41,12) for the three diseases, 41 years and 12 months"
   ]
  },
  {
   "cell_type": "code",
   "execution_count": 4,
   "metadata": {
    "id": "uquQ2qoL5jn4"
   },
   "outputs": [],
   "source": [
    "diseases = ['Measles', 'Mumps', 'ChickenPox']\n",
    "year = np.arange(1931, 1972)\n",
    "month = np.arange(1, 13)\n",
    "month_str = ('Jan', 'Feb', 'Mar', 'Apr', 'May', 'Jun', 'Jul', 'Aug', 'Sep', 'Oct', 'Nov', 'Dec')\n",
    "\n",
    "\n",
    "url = 'diseases.csv'\n",
    "# uncomment the following to read directly from github\n",
    "url = 'https://raw.githubusercontent.com/jianhuaruan/3753/main/' + url\n",
    "data = pd.read_csv(url,header=None).values\n",
    "data = data.reshape([3, 41, 12]) #data[0], data[1], and data[2] is for measles, mumps, and chickenpox"
   ]
  },
  {
   "cell_type": "markdown",
   "metadata": {
    "id": "ghcAnO855jn5"
   },
   "source": [
    "### % Q1 calucate and show mean number of cases per year, and 95% CI of the mean"
   ]
  },
  {
   "cell_type": "code",
   "execution_count": 18,
   "metadata": {
    "colab": {
     "base_uri": "https://localhost:8080/",
     "height": 281
    },
    "id": "b55bAPfw5jn6",
    "outputId": "31ac7b75-1fc2-460c-dafe-0da87905218f"
   },
   "outputs": [
    {
     "ename": "ValueError",
     "evalue": "'x' and 'y' must have the same size",
     "output_type": "error",
     "traceback": [
      "\u001B[1;31m---------------------------------------------------------------------------\u001B[0m",
      "\u001B[1;31mValueError\u001B[0m                                Traceback (most recent call last)",
      "\u001B[1;32m~\\AppData\\Local\\Temp/ipykernel_31648/1418867625.py\u001B[0m in \u001B[0;36m<module>\u001B[1;34m\u001B[0m\n\u001B[0;32m      1\u001B[0m \u001B[0mm\u001B[0m \u001B[1;33m=\u001B[0m \u001B[0mdata\u001B[0m\u001B[1;33m\u001B[0m\u001B[1;33m\u001B[0m\u001B[0m\n\u001B[0;32m      2\u001B[0m \u001B[0mSEM\u001B[0m \u001B[1;33m=\u001B[0m \u001B[0mnp\u001B[0m\u001B[1;33m.\u001B[0m\u001B[0mstd\u001B[0m\u001B[1;33m(\u001B[0m\u001B[0mm\u001B[0m\u001B[1;33m,\u001B[0m\u001B[1;36m0\u001B[0m\u001B[1;33m)\u001B[0m\u001B[1;33m/\u001B[0m\u001B[0msqrt\u001B[0m\u001B[1;33m(\u001B[0m\u001B[0mm\u001B[0m\u001B[1;33m.\u001B[0m\u001B[0mshape\u001B[0m\u001B[1;33m[\u001B[0m\u001B[1;36m0\u001B[0m\u001B[1;33m]\u001B[0m\u001B[1;33m)\u001B[0m \u001B[1;31m# SEM = std / sqrt(n)\u001B[0m\u001B[1;33m\u001B[0m\u001B[1;33m\u001B[0m\u001B[0m\n\u001B[1;32m----> 3\u001B[1;33m \u001B[0mplt\u001B[0m\u001B[1;33m.\u001B[0m\u001B[0merrorbar\u001B[0m\u001B[1;33m(\u001B[0m\u001B[1;33m[\u001B[0m\u001B[1;36m1\u001B[0m\u001B[1;33m,\u001B[0m\u001B[1;36m2\u001B[0m\u001B[1;33m,\u001B[0m\u001B[1;36m3\u001B[0m\u001B[1;33m]\u001B[0m\u001B[1;33m,\u001B[0m \u001B[0mnp\u001B[0m\u001B[1;33m.\u001B[0m\u001B[0mmean\u001B[0m\u001B[1;33m(\u001B[0m\u001B[0mmeasures\u001B[0m\u001B[1;33m,\u001B[0m\u001B[1;36m0\u001B[0m\u001B[1;33m)\u001B[0m\u001B[1;33m,\u001B[0m \u001B[0mSEM\u001B[0m\u001B[1;33m)\u001B[0m\u001B[1;33m\u001B[0m\u001B[1;33m\u001B[0m\u001B[0m\n\u001B[0m\u001B[0;32m      4\u001B[0m \u001B[0mplt\u001B[0m\u001B[1;33m.\u001B[0m\u001B[0mxticks\u001B[0m\u001B[1;33m(\u001B[0m\u001B[1;33m[\u001B[0m\u001B[1;36m1\u001B[0m\u001B[1;33m,\u001B[0m\u001B[1;36m2\u001B[0m\u001B[1;33m,\u001B[0m\u001B[1;36m3\u001B[0m\u001B[1;33m]\u001B[0m\u001B[1;33m,\u001B[0m \u001B[1;33m[\u001B[0m\u001B[1;34m'measles'\u001B[0m\u001B[1;33m,\u001B[0m \u001B[1;34m'mumps'\u001B[0m\u001B[1;33m,\u001B[0m \u001B[1;34m'chickenpox'\u001B[0m\u001B[1;33m]\u001B[0m\u001B[1;33m)\u001B[0m\u001B[1;33m\u001B[0m\u001B[1;33m\u001B[0m\u001B[0m\n\u001B[0;32m      5\u001B[0m \u001B[1;31m#plt.ylim([20, 90])\u001B[0m\u001B[1;33m\u001B[0m\u001B[1;33m\u001B[0m\u001B[0m\n",
      "\u001B[1;32m~\\anaconda3\\lib\\site-packages\\matplotlib\\pyplot.py\u001B[0m in \u001B[0;36merrorbar\u001B[1;34m(x, y, yerr, xerr, fmt, ecolor, elinewidth, capsize, barsabove, lolims, uplims, xlolims, xuplims, errorevery, capthick, data, **kwargs)\u001B[0m\n\u001B[0;32m   2770\u001B[0m         \u001B[0muplims\u001B[0m\u001B[1;33m=\u001B[0m\u001B[1;32mFalse\u001B[0m\u001B[1;33m,\u001B[0m \u001B[0mxlolims\u001B[0m\u001B[1;33m=\u001B[0m\u001B[1;32mFalse\u001B[0m\u001B[1;33m,\u001B[0m \u001B[0mxuplims\u001B[0m\u001B[1;33m=\u001B[0m\u001B[1;32mFalse\u001B[0m\u001B[1;33m,\u001B[0m \u001B[0merrorevery\u001B[0m\u001B[1;33m=\u001B[0m\u001B[1;36m1\u001B[0m\u001B[1;33m,\u001B[0m\u001B[1;33m\u001B[0m\u001B[1;33m\u001B[0m\u001B[0m\n\u001B[0;32m   2771\u001B[0m         capthick=None, *, data=None, **kwargs):\n\u001B[1;32m-> 2772\u001B[1;33m     return gca().errorbar(\n\u001B[0m\u001B[0;32m   2773\u001B[0m         \u001B[0mx\u001B[0m\u001B[1;33m,\u001B[0m \u001B[0my\u001B[0m\u001B[1;33m,\u001B[0m \u001B[0myerr\u001B[0m\u001B[1;33m=\u001B[0m\u001B[0myerr\u001B[0m\u001B[1;33m,\u001B[0m \u001B[0mxerr\u001B[0m\u001B[1;33m=\u001B[0m\u001B[0mxerr\u001B[0m\u001B[1;33m,\u001B[0m \u001B[0mfmt\u001B[0m\u001B[1;33m=\u001B[0m\u001B[0mfmt\u001B[0m\u001B[1;33m,\u001B[0m \u001B[0mecolor\u001B[0m\u001B[1;33m=\u001B[0m\u001B[0mecolor\u001B[0m\u001B[1;33m,\u001B[0m\u001B[1;33m\u001B[0m\u001B[1;33m\u001B[0m\u001B[0m\n\u001B[0;32m   2774\u001B[0m         \u001B[0melinewidth\u001B[0m\u001B[1;33m=\u001B[0m\u001B[0melinewidth\u001B[0m\u001B[1;33m,\u001B[0m \u001B[0mcapsize\u001B[0m\u001B[1;33m=\u001B[0m\u001B[0mcapsize\u001B[0m\u001B[1;33m,\u001B[0m \u001B[0mbarsabove\u001B[0m\u001B[1;33m=\u001B[0m\u001B[0mbarsabove\u001B[0m\u001B[1;33m,\u001B[0m\u001B[1;33m\u001B[0m\u001B[1;33m\u001B[0m\u001B[0m\n",
      "\u001B[1;32m~\\anaconda3\\lib\\site-packages\\matplotlib\\__init__.py\u001B[0m in \u001B[0;36minner\u001B[1;34m(ax, data, *args, **kwargs)\u001B[0m\n\u001B[0;32m   1359\u001B[0m     \u001B[1;32mdef\u001B[0m \u001B[0minner\u001B[0m\u001B[1;33m(\u001B[0m\u001B[0max\u001B[0m\u001B[1;33m,\u001B[0m \u001B[1;33m*\u001B[0m\u001B[0margs\u001B[0m\u001B[1;33m,\u001B[0m \u001B[0mdata\u001B[0m\u001B[1;33m=\u001B[0m\u001B[1;32mNone\u001B[0m\u001B[1;33m,\u001B[0m \u001B[1;33m**\u001B[0m\u001B[0mkwargs\u001B[0m\u001B[1;33m)\u001B[0m\u001B[1;33m:\u001B[0m\u001B[1;33m\u001B[0m\u001B[1;33m\u001B[0m\u001B[0m\n\u001B[0;32m   1360\u001B[0m         \u001B[1;32mif\u001B[0m \u001B[0mdata\u001B[0m \u001B[1;32mis\u001B[0m \u001B[1;32mNone\u001B[0m\u001B[1;33m:\u001B[0m\u001B[1;33m\u001B[0m\u001B[1;33m\u001B[0m\u001B[0m\n\u001B[1;32m-> 1361\u001B[1;33m             \u001B[1;32mreturn\u001B[0m \u001B[0mfunc\u001B[0m\u001B[1;33m(\u001B[0m\u001B[0max\u001B[0m\u001B[1;33m,\u001B[0m \u001B[1;33m*\u001B[0m\u001B[0mmap\u001B[0m\u001B[1;33m(\u001B[0m\u001B[0msanitize_sequence\u001B[0m\u001B[1;33m,\u001B[0m \u001B[0margs\u001B[0m\u001B[1;33m)\u001B[0m\u001B[1;33m,\u001B[0m \u001B[1;33m**\u001B[0m\u001B[0mkwargs\u001B[0m\u001B[1;33m)\u001B[0m\u001B[1;33m\u001B[0m\u001B[1;33m\u001B[0m\u001B[0m\n\u001B[0m\u001B[0;32m   1362\u001B[0m \u001B[1;33m\u001B[0m\u001B[0m\n\u001B[0;32m   1363\u001B[0m         \u001B[0mbound\u001B[0m \u001B[1;33m=\u001B[0m \u001B[0mnew_sig\u001B[0m\u001B[1;33m.\u001B[0m\u001B[0mbind\u001B[0m\u001B[1;33m(\u001B[0m\u001B[0max\u001B[0m\u001B[1;33m,\u001B[0m \u001B[1;33m*\u001B[0m\u001B[0margs\u001B[0m\u001B[1;33m,\u001B[0m \u001B[1;33m**\u001B[0m\u001B[0mkwargs\u001B[0m\u001B[1;33m)\u001B[0m\u001B[1;33m\u001B[0m\u001B[1;33m\u001B[0m\u001B[0m\n",
      "\u001B[1;32m~\\anaconda3\\lib\\site-packages\\matplotlib\\axes\\_axes.py\u001B[0m in \u001B[0;36merrorbar\u001B[1;34m(self, x, y, yerr, xerr, fmt, ecolor, elinewidth, capsize, barsabove, lolims, uplims, xlolims, xuplims, errorevery, capthick, **kwargs)\u001B[0m\n\u001B[0;32m   3295\u001B[0m \u001B[1;33m\u001B[0m\u001B[0m\n\u001B[0;32m   3296\u001B[0m         \u001B[1;32mif\u001B[0m \u001B[0mlen\u001B[0m\u001B[1;33m(\u001B[0m\u001B[0mx\u001B[0m\u001B[1;33m)\u001B[0m \u001B[1;33m!=\u001B[0m \u001B[0mlen\u001B[0m\u001B[1;33m(\u001B[0m\u001B[0my\u001B[0m\u001B[1;33m)\u001B[0m\u001B[1;33m:\u001B[0m\u001B[1;33m\u001B[0m\u001B[1;33m\u001B[0m\u001B[0m\n\u001B[1;32m-> 3297\u001B[1;33m             \u001B[1;32mraise\u001B[0m \u001B[0mValueError\u001B[0m\u001B[1;33m(\u001B[0m\u001B[1;34m\"'x' and 'y' must have the same size\"\u001B[0m\u001B[1;33m)\u001B[0m\u001B[1;33m\u001B[0m\u001B[1;33m\u001B[0m\u001B[0m\n\u001B[0m\u001B[0;32m   3298\u001B[0m \u001B[1;33m\u001B[0m\u001B[0m\n\u001B[0;32m   3299\u001B[0m         \u001B[1;32mif\u001B[0m \u001B[0mxerr\u001B[0m \u001B[1;32mis\u001B[0m \u001B[1;32mnot\u001B[0m \u001B[1;32mNone\u001B[0m\u001B[1;33m:\u001B[0m\u001B[1;33m\u001B[0m\u001B[1;33m\u001B[0m\u001B[0m\n",
      "\u001B[1;31mValueError\u001B[0m: 'x' and 'y' must have the same size"
     ]
    },
    {
     "data": {
      "image/png": "[encoded data removed]",
      "text/plain": [
       "<Figure size 432x288 with 1 Axes>"
      ]
     },
     "metadata": {
      "needs_background": "light"
     },
     "output_type": "display_data"
    }
   ],
   "source": [
    "m = data\n",
    "#mSEM = np.std(m)/sqrt(len(m[0])) # SEM = std / sqrt(n)\n",
    "msum=  np.sum(m[0], 1)\n",
    "mmean= np.mean(msum)\n",
    "mSTD = np.std(msum)\n",
    "\n",
    "musum= np.sum(m[1],1)\n",
    "mumean=  np.mean(musum)\n",
    "muSTD = np.std(musum) # SEM = std / sqrt(n)\n",
    "\n",
    "chPsum= np.sum(m[2],1)\n",
    "chPmean= np.mean(chPsum)\n",
    "chPSTD = np.std(chPsum) # SEM = std / sqrt(n)\n",
    "\n",
    "measlesCI = (mSTD/sqrt(len(m[0]))) * 1.96 # SEM = std / sqrt(n)\n",
    "mumpsCI = (muSTD/sqrt(len(m[1]))) * 1.96 # SEM = std / sqrt(n)\n",
    "chPCI = (chPSTD/sqrt(len(m[2]))) * 1.96 # SEM = std / sqrt(n)\n",
    "plt.errorbar([1,2,3],mmean, measlesCI)\n",
    "plt.errorbar([1,2,3], mumean, mumpsCI)\n",
    "plt.errorbar([1,2,3], chPmean, chPCI)\n",
    "plt.xticks([1,2,3], ['measles', 'mumps', 'chickenpox'])\n",
    "#plt.ylim([20, 90])\n",
    "plt.xlabel('NYC Diseases')\n",
    "plt.ylabel('Number of cases')\n",
    "plt.title('Fig 1: # of disease cases per year (mean & 95% CI)')\n",
    "plt.show()\n",
    "\n",
    "\n"
   ]
  },
  {
   "cell_type": "markdown",
   "metadata": {
    "id": "qFE_CCUW5jn8"
   },
   "source": [
    "### % Q2 calucate and show percent of cases occurred in each month\n"
   ]
  },
  {
   "cell_type": "code",
   "execution_count": 23,
   "metadata": {
    "colab": {
     "base_uri": "https://localhost:8080/",
     "height": 281
    },
    "id": "KhmKrGeP5jn8",
    "outputId": "9ee5ac0c-6f85-4300-9c66-d2f82812e66f"
   },
   "outputs": [
    {
     "data": {
      "image/png": "[encoded data removed]",
      "text/plain": [
       "<Figure size 432x288 with 1 Axes>"
      ]
     },
     "metadata": {
      "needs_background": "light"
     },
     "output_type": "display_data"
    }
   ],
   "source": [
    "plt.figure()\n",
    "\n",
    "plt.title('Fig 2: Percent of cases in each month')\n",
    "plt.show()\n"
   ]
  },
  {
   "cell_type": "markdown",
   "metadata": {
    "id": "FF0L_bmv5jn9"
   },
   "source": [
    "### % Q3 Scatter plot and correlation, mean monthly cases of Measles vs mumps"
   ]
  },
  {
   "cell_type": "code",
   "execution_count": 24,
   "metadata": {
    "colab": {
     "base_uri": "https://localhost:8080/",
     "height": 316
    },
    "id": "xPz2CuSH5jn-",
    "outputId": "9b0e2bcf-3960-4593-cacd-4bc91b599653"
   },
   "outputs": [
    {
     "data": {
      "image/png": "[encoded data removed]",
      "text/plain": [
       "<Figure size 432x288 with 1 Axes>"
      ]
     },
     "metadata": {
      "needs_background": "light"
     },
     "output_type": "display_data"
    },
    {
     "name": "stdout",
     "output_type": "stream",
     "text": [
      "Pearson corr: 0.0000\n",
      "Spearman corr: 0.0000\n"
     ]
    }
   ],
   "source": [
    "# Q3.1 scatter plot \n",
    "ind1 = 0\n",
    "ind2 = 1\n",
    "\n",
    "plt.figure()\n",
    "\n",
    "plt.title('Fig 3: Mean monthly cases of %s vs %s' %(diseases[ind1], diseases[ind2]))\n",
    "\n",
    "# Q3.2 Pearson correlation \n",
    "\n",
    "\n",
    "# Q3.2 Spearman correlation coefficient \n",
    "  \n",
    "plt.show()\n",
    "\n",
    "print('Pearson corr: %.4f' %0)\n",
    "print('Spearman corr: %.4f' %0)\n"
   ]
  },
  {
   "cell_type": "markdown",
   "metadata": {
    "id": "8inG6nhV5jn_"
   },
   "source": [
    "### % Q4 Scatter plot and correlation, annual cases of measles vs mumps"
   ]
  },
  {
   "cell_type": "code",
   "execution_count": 25,
   "metadata": {
    "colab": {
     "base_uri": "https://localhost:8080/",
     "height": 316
    },
    "id": "hd0y35cc5joA",
    "outputId": "c946eb23-cfb2-44df-afd1-59b06f18436f"
   },
   "outputs": [
    {
     "data": {
      "image/png": "[encoded data removed]",
      "text/plain": [
       "<Figure size 432x288 with 1 Axes>"
      ]
     },
     "metadata": {
      "needs_background": "light"
     },
     "output_type": "display_data"
    },
    {
     "name": "stdout",
     "output_type": "stream",
     "text": [
      "Pearson correlation: 0.0000\n",
      "Spearman correlation: 0.0000 \n"
     ]
    }
   ],
   "source": [
    "# 4.1 scatter plot \n",
    "\n",
    "ind1 = 0\n",
    "ind2 = 1\n",
    "\n",
    "plt.figure()\n",
    "plt.title('Fig 4: Annual cases of %s vs %s' %(diseases[ind1], diseases[ind2]))\n",
    "\n",
    "\n",
    "# 4.2 Pearson correlation coefficient \n",
    "\n",
    "\n",
    "# 4.3 Spearman correlation \n",
    "\n",
    "\n",
    "plt.show()\n",
    "\n",
    "print('Pearson correlation: %.4f' %0)\n",
    "print('Spearman correlation: %.4f ' %0)\n"
   ]
  },
  {
   "cell_type": "markdown",
   "metadata": {
    "id": "03vguZDl5joB"
   },
   "source": [
    "### % Q5 Scatter plot and correlation, monthly cases of Measles vs mumps"
   ]
  },
  {
   "cell_type": "code",
   "execution_count": 26,
   "metadata": {
    "colab": {
     "base_uri": "https://localhost:8080/",
     "height": 316
    },
    "id": "mFKanLtg5joB",
    "outputId": "2a3e3b2e-10b0-4142-c744-ad7aa3f7834a"
   },
   "outputs": [
    {
     "data": {
      "image/png": "[encoded data removed]",
      "text/plain": [
       "<Figure size 432x288 with 1 Axes>"
      ]
     },
     "metadata": {
      "needs_background": "light"
     },
     "output_type": "display_data"
    },
    {
     "name": "stdout",
     "output_type": "stream",
     "text": [
      "Pearson correlation in orignal space: 0.0000\n",
      "Spearman correlation in original space: 0.0000 \n"
     ]
    }
   ],
   "source": [
    "# 5.1 scatter plot and correlation in original space\n",
    "\n",
    "\n",
    "plt.figure()\n",
    "\n",
    "ind1 = 0\n",
    "ind2 = 1\n",
    "\n",
    "plt.title('Fig 5.1: Monthly cases of %s vs %s' %(diseases[ind1], diseases[ind2]))\n",
    "\n",
    "\n",
    "# Pearson correlation coefficient \n",
    "\n",
    "# Spearman correlation between annual cases of mumps vs chicken pox\n",
    "\n",
    "\n",
    "plt.show()\n",
    "\n",
    "print('Pearson correlation in orignal space: %.4f' %0)\n",
    "print('Spearman correlation in original space: %.4f ' %0)\n"
   ]
  },
  {
   "cell_type": "code",
   "execution_count": 27,
   "metadata": {
    "colab": {
     "base_uri": "https://localhost:8080/",
     "height": 316
    },
    "id": "ebXtjMedEQRQ",
    "outputId": "201b6cd9-9030-44e5-ecbd-690c07fa1940"
   },
   "outputs": [
    {
     "data": {
      "image/png": "[encoded data removed]",
      "text/plain": [
       "<Figure size 432x288 with 1 Axes>"
      ]
     },
     "metadata": {
      "needs_background": "light"
     },
     "output_type": "display_data"
    },
    {
     "name": "stdout",
     "output_type": "stream",
     "text": [
      "Pearson correlation in log space: 0.0000\n",
      "Spearman correlation in log space: 0.0000 \n"
     ]
    }
   ],
   "source": [
    "# 5.2 scatter plot and correlation in log space\n",
    "\n",
    "plt.figure()\n",
    "\n",
    "ind1 = 0\n",
    "ind2 = 1\n",
    "\n",
    "plt.title('Fig 5.2: Monthly cases of %s vs %s' %(diseases[ind1], diseases[ind2]))\n",
    "\n",
    "# Pearson correlation coefficient \n",
    "\n",
    "# Spearman correlation \n",
    "\n",
    "plt.show()\n",
    "\n",
    "print('Pearson correlation in log space: %.4f' %0)\n",
    "print('Spearman correlation in log space: %.4f ' %0)\n",
    "\n"
   ]
  },
  {
   "cell_type": "markdown",
   "metadata": {
    "id": "32iPhNwG5joB"
   },
   "source": [
    "### % Q6 (bonus) Correlation between number of mumps cases in different months"
   ]
  },
  {
   "cell_type": "code",
   "execution_count": 27,
   "metadata": {
    "id": "krs4XrA05joC"
   },
   "outputs": [],
   "source": []
  },
  {
   "cell_type": "markdown",
   "metadata": {
    "id": "KUmzenxlEkSZ"
   },
   "source": [
    "###% Q7 (Bonus) calculate and show average perecent of diseases occurred in each month"
   ]
  },
  {
   "cell_type": "code",
   "execution_count": 27,
   "metadata": {
    "id": "y0IssWIjEqpV"
   },
   "outputs": [],
   "source": []
  }
 ],
 "metadata": {
  "colab": {
   "collapsed_sections": [],
   "name": "HW3_skeleton.ipynb",
   "provenance": []
  },
  "kernelspec": {
   "display_name": "Python 3 (ipykernel)",
   "language": "python",
   "name": "python3"
  },
  "language_info": {
   "codemirror_mode": {
    "name": "ipython",
    "version": 3
   },
   "file_extension": ".py",
   "mimetype": "text/x-python",
   "name": "python",
   "nbconvert_exporter": "python",
   "pygments_lexer": "ipython3",
   "version": "3.9.7"
  }
 },
 "nbformat": 4,
 "nbformat_minor": 4
}